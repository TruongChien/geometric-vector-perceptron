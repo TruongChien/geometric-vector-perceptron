{
 "cells": [
  {
   "cell_type": "markdown",
   "metadata": {},
   "source": [
    "### Adapting GVP for arbitrary (proteins) point clouds"
   ]
  },
  {
   "cell_type": "code",
   "execution_count": 4,
   "metadata": {},
   "outputs": [],
   "source": [
    "import os\n",
    "import sys\n",
    "import time\n",
    "sys.path.append(\"../../faster_nerf/mp_nerf\")\n",
    "sys.path.append(\"../../geometric-vector-perceptron/geometric_vector_perceptron\")\n",
    "\n",
    "import torch\n",
    "import numpy as np\n",
    "from einops import rearrange, repeat\n",
    "import matplotlib.pyplot as plt\n",
    "# custom utils\n",
    "from data_handler import *\n",
    "from data_utils import *\n",
    "# custom model\n",
    "from geometric_vector_perceptron import *\n",
    "# process and dataset\n",
    "import gc\n",
    "import joblib\n",
    "from tqdm import tqdm\n",
    "from functools import partial"
   ]
  },
  {
   "cell_type": "code",
   "execution_count": 5,
   "metadata": {},
   "outputs": [],
   "source": [
    "# data\n",
    "import sidechainnet\n",
    "from sidechainnet.utils.sequence import ProteinVocabulary as VOCAB\n",
    "VOCAB = VOCAB()"
   ]
  },
  {
   "cell_type": "code",
   "execution_count": 6,
   "metadata": {},
   "outputs": [],
   "source": [
    "device = torch.device(\"cuda\" if torch.cuda.is_available() else \"cpu\") # \"cpu\")"
   ]
  },
  {
   "cell_type": "markdown",
   "metadata": {},
   "source": [
    "### Dataloader for training"
   ]
  },
  {
   "cell_type": "code",
   "execution_count": null,
   "metadata": {},
   "outputs": [],
   "source": [
    "MAX_LEN = 230\n",
    "MAX_PROTS = 4000"
   ]
  },
  {
   "cell_type": "code",
   "execution_count": 4,
   "metadata": {
    "scrolled": true
   },
   "outputs": [],
   "source": [
    "dataloaders_ = sidechainnet.load(casp_version=7, with_pytorch=\"dataloaders\")\n",
    "dataloaders_.keys() # ['train', 'train_eval', 'valid-10', ..., 'valid-90', 'test']\n",
    "train_examples_storer = [get_prot(dataloader_=dataloaders_, vocab_=VOCAB, max_len=MAX_LEN, verbose=0) \\\n",
    "                         for i in tqdm(range(MAX_PROTS))]\n",
    "\n",
    "# dataloaders won't work on my windows (idk why, so load examples from disk and train)\n",
    "# train_examples_storer = joblib.load(\"sidechainnet_data/800_under_200.joblib\")"
   ]
  },
  {
   "cell_type": "markdown",
   "metadata": {},
   "source": [
    "## Data encoding dims and instantiate model"
   ]
  },
  {
   "cell_type": "code",
   "execution_count": 5,
   "metadata": {},
   "outputs": [
    {
     "data": {
      "text/plain": [
       "{'point_n_vectors': 7,\n",
       " 'point_n_scalars': 42,\n",
       " 'bond_n_vectors': 2,\n",
       " 'bond_n_scalars': 3,\n",
       " 'bond_embedding_nums': [1]}"
      ]
     },
     "execution_count": 5,
     "metadata": {},
     "output_type": "execute_result"
    }
   ],
   "source": [
    "NEEDED_INFO = {\"cutoffs\": [2],\n",
    "               \"bond_scales\": [0.5],\n",
    "               \"aa_pos_scales\": [1,2,4,8,16,32,64,128],\n",
    "               \"atom_pos_scales\": [1,2,4,8,16,32],\n",
    "               \"dist2ca_norm_scales\": [1,2,4],\n",
    "              }\n",
    "# get model sizes from encoded protein\n",
    "seq, true_coords, angles, padding_seq = train_examples_storer[-1] \n",
    "\n",
    "# encode as needed\n",
    "encoded = encode_whole_protein(seq, true_coords, angles, padding_seq, needed_info=NEEDED_INFO, free_mem=True)\n",
    "x, edge_index, edge_attrs, embedd_info = encoded\n",
    "embedd_info"
   ]
  },
  {
   "cell_type": "code",
   "execution_count": 1,
   "metadata": {
    "collapsed": true
   },
   "outputs": [
    {
     "ename": "NameError",
     "evalue": "name 'partial' is not defined",
     "output_type": "error",
     "traceback": [
      "\u001b[0;31m---------------------------------------------------------------------------\u001b[0m",
      "\u001b[0;31mNameError\u001b[0m                                 Traceback (most recent call last)",
      "\u001b[0;32m<ipython-input-1-cac2d3bcb0f9>\u001b[0m in \u001b[0;36m<module>\u001b[0;34m\u001b[0m\n\u001b[1;32m      1\u001b[0m \u001b[0;31m# define edge_attr recalculator\u001b[0m\u001b[0;34m\u001b[0m\u001b[0;34m\u001b[0m\u001b[0;34m\u001b[0m\u001b[0m\n\u001b[0;32m----> 2\u001b[0;31m recalc_edge = partial(encode_whole_bonds, x_format = \"prediction\",\n\u001b[0m\u001b[1;32m      3\u001b[0m                                           \u001b[0membedd_info\u001b[0m \u001b[0;34m=\u001b[0m \u001b[0membedd_info\u001b[0m\u001b[0;34m,\u001b[0m\u001b[0;34m\u001b[0m\u001b[0;34m\u001b[0m\u001b[0m\n\u001b[1;32m      4\u001b[0m                                           \u001b[0mneeded_info\u001b[0m \u001b[0;34m=\u001b[0m \u001b[0mNEEDED_INFO\u001b[0m\u001b[0;34m,\u001b[0m\u001b[0;34m\u001b[0m\u001b[0;34m\u001b[0m\u001b[0m\n\u001b[1;32m      5\u001b[0m                                           free_mem = True)\n",
      "\u001b[0;31mNameError\u001b[0m: name 'partial' is not defined"
     ]
    }
   ],
   "source": [
    "# define edge_attr recalculator\n",
    "recalc_edge = partial(encode_whole_bonds, x_format = \"prediction\",\n",
    "                                          embedd_info = embedd_info,\n",
    "                                          needed_info = NEEDED_INFO,\n",
    "                                          free_mem = True)\n",
    "# define model\n",
    "model = GVP_Network(n_layers=1, feats_x_in=42, vectors_x_in=7,\n",
    "                                feats_x_out=42, vectors_x_out=7,\n",
    "                                feats_edge_in=3, vectors_edge_in=2,\n",
    "                                feats_edge_out=3, vectors_edge_out=2,\n",
    "                                embedding_nums=[36, 20], embedding_dims=[16,16], # from _nums to _dims\n",
    "                                edge_embedding_nums=[1], edge_embedding_dims=[2])"
   ]
  },
  {
   "cell_type": "code",
   "execution_count": 7,
   "metadata": {},
   "outputs": [
    {
     "name": "stdout",
     "output_type": "stream",
     "text": [
      "under 75 aas, we have: 0 proteins\n",
      "under 90 aas, we have: 106 proteins\n",
      "under 100 aas, we have: 225 proteins\n",
      "under 120 aas, we have: 359 proteins\n",
      "under 140 aas, we have: 478 proteins\n"
     ]
    }
   ],
   "source": [
    "# calc training sample:\n",
    "for th in [75, 90, 100, 120, 140]:\n",
    "    print(\"under\", th, \"aas, we have:\", sum([len(x[0])<th for x in train_examples_storer]), \"proteins\")"
   ]
  },
  {
   "cell_type": "markdown",
   "metadata": {},
   "source": [
    "### Train"
   ]
  },
  {
   "cell_type": "code",
   "execution_count": 10,
   "metadata": {},
   "outputs": [],
   "source": [
    "model = model.to(device) # .double()"
   ]
  },
  {
   "cell_type": "code",
   "execution_count": 11,
   "metadata": {},
   "outputs": [],
   "source": [
    "noise = 1\n",
    "optimizer = torch.optim.Adam(model.parameters(), lr=1e-3)"
   ]
  },
  {
   "cell_type": "code",
   "execution_count": 12,
   "metadata": {
    "scrolled": false
   },
   "outputs": [
    {
     "name": "stdout",
     "output_type": "stream",
     "text": [
      "BATCH: 1 / 800, loss: 6.135044097900391, time: 0.5223591327667236\n",
      "BATCH: 51 / 800, loss: 2.060417890548706, time: 13.017417430877686\n",
      "BATCH: 101 / 800, loss: 2.1889801025390625, time: 15.287022829055786\n",
      "BATCH: 151 / 800, loss: 1.7155386209487915, time: 16.035976886749268\n",
      "BATCH: 201 / 800, loss: 1.298957347869873, time: 14.198288202285767\n",
      "BATCH: 251 / 800, loss: 1.161380410194397, time: 12.91748571395874\n",
      "BATCH: 301 / 800, loss: 1.1686283349990845, time: 12.605999231338501\n",
      "BATCH: 351 / 800, loss: 1.1551274061203003, time: 13.760541677474976\n",
      "BATCH: 401 / 800, loss: 1.095706820487976, time: 12.782570123672485\n",
      "BATCH: 451 / 800, loss: 1.1198716163635254, time: 13.195034503936768\n",
      "BATCH: 501 / 800, loss: 1.0658564567565918, time: 13.356206893920898\n",
      "BATCH: 551 / 800, loss: 1.1324951648712158, time: 12.00098967552185\n",
      "BATCH: 601 / 800, loss: 1.1142604351043701, time: 13.255919933319092\n",
      "BATCH: 651 / 800, loss: 1.0019683837890625, time: 12.876648187637329\n",
      "BATCH: 701 / 800, loss: 1.0558366775512695, time: 12.937386512756348\n",
      "BATCH: 751 / 800, loss: 1.017897129058838, time: 12.448876857757568\n",
      "BATCH: 801 / 800, loss: 0.9279223084449768, time: 12.362673997879028\n",
      "BATCH: 851 / 800, loss: 0.9861620664596558, time: 12.18181300163269\n",
      "BATCH: 901 / 800, loss: 1.0480598211288452, time: 13.253229141235352\n",
      "BATCH: 951 / 800, loss: 0.99075847864151, time: 13.29676604270935\n",
      "BATCH: 1001 / 800, loss: 0.9541701078414917, time: 11.985875129699707\n",
      "BATCH: 1051 / 800, loss: 0.9812620878219604, time: 12.314890146255493\n",
      "BATCH: 1101 / 800, loss: 1.029921054840088, time: 12.19500207901001\n",
      "BATCH: 1151 / 800, loss: 1.0535173416137695, time: 13.082989931106567\n",
      "BATCH: 1201 / 800, loss: 1.0641359090805054, time: 12.177726745605469\n",
      "BATCH: 1251 / 800, loss: 1.0835962295532227, time: 12.25068998336792\n",
      "BATCH: 1301 / 800, loss: 1.0012818574905396, time: 13.01833438873291\n",
      "BATCH: 1351 / 800, loss: 1.058067798614502, time: 12.114000082015991\n",
      "BATCH: 1401 / 800, loss: 1.017145037651062, time: 13.40729284286499\n",
      "BATCH: 1451 / 800, loss: 0.9645835757255554, time: 13.035007953643799\n",
      "BATCH: 1501 / 800, loss: 0.9844077825546265, time: 13.490181684494019\n",
      "BATCH: 1551 / 800, loss: 0.9614024758338928, time: 13.0277738571167\n"
     ]
    }
   ],
   "source": [
    "model.train()\n",
    "\n",
    "# info records\n",
    "baseline_losses = []\n",
    "epoch_losses    = []\n",
    "tac    = time.time()\n",
    "# training run params\n",
    "max_seq_len = MAX_LEN # 120\n",
    "iteration   = 0\n",
    "n_per_iter  = MAX_PROTS # 400\n",
    "for ep in range( 5*n_per_iter ):\n",
    "    # get input data and target - copy to gpu\n",
    "    seq, true_coords, angles, padding_seq = train_examples_storer[ep % len(train_examples_storer)]\n",
    "    \n",
    "    # avoid seqs above limit\n",
    "    if len(seq) > max_seq_len: \n",
    "        continue\n",
    "    true_coords = true_coords.to(device) # .double()\n",
    "    angles = angles.to(device)           # .double()\n",
    "    # target is the position of every atom (unit_vec, norm_scale)\n",
    "    pre_target = encode_whole_protein(seq,\n",
    "                                      true_coords,\n",
    "                                      angles,\n",
    "                                      padding_seq,\n",
    "                                      needed_info=NEEDED_INFO, free_mem=True)\n",
    "    pre_target_x, _, _, embedd_info = pre_target\n",
    "    # encode as needed (noise mask)\n",
    "    encoded = encode_whole_protein( seq,\n",
    "                                    true_coords + noise*torch.randn_like(true_coords),\n",
    "                                    angles,\n",
    "                                    padding_seq,\n",
    "                                    needed_info=NEEDED_INFO, free_mem=True)\n",
    "    x, edge_index, edge_attrs, embedd_info = encoded\n",
    "    batch = torch.tensor([0 for i in range(x.shape[0])], device=device).long()\n",
    "    \n",
    "    # predict\n",
    "    scores = model.forward(x, edge_index, batch=batch, edge_attr=edge_attrs,\n",
    "                           recalc_edge=recalc_edge, verbose = False)\n",
    "    # format pred and target\n",
    "    target = from_encode_to_pred(pre_target_x, embedd_info, needed_info=NEEDED_INFO)\n",
    "    pred   = from_encode_to_pred(scores, embedd_info, needed_info=NEEDED_INFO)\n",
    "    base   = from_encode_to_pred(x, embedd_info, needed_info=NEEDED_INFO)\n",
    "    # MEASURE ERROR\n",
    "    \n",
    "    # option 1: loss is MSE on output tokens\n",
    "    # loss_ = (target-pred)**2\n",
    "    # loss  = loss_.mean()\n",
    "    \n",
    "    # option 2: loss is RMSD on reconstructed coords\n",
    "    pred_dec   = decode_dist(pred[:, 3:], scales=NEEDED_INFO[\"atom_pos_scales\"]).mean(dim=-1)\n",
    "    target_dec = decode_dist(target[:, 3:], scales=NEEDED_INFO[\"atom_pos_scales\"]).mean(dim=-1)\n",
    "    base_dec   = decode_dist(base[:, 3:], scales=NEEDED_INFO[\"atom_pos_scales\"]).mean(dim=-1)\n",
    "    # reconstruct coordinates\n",
    "    target_coords = target[:, :3] * target_dec.unsqueeze(-1)\n",
    "    pred_coords   = pred[:, :3] * pred_dec.unsqueeze(-1)\n",
    "    base_coords   = base[:, :3] * base_dec.unsqueeze(-1)\n",
    "    loss_base = ((base_coords - target_coords)**2).mean()**0.5 \n",
    "    loss = ((pred_coords - target_coords)**2).mean()**0.5 \n",
    "    \n",
    "    # back pass\n",
    "    optimizer.zero_grad()\n",
    "    loss.backward()\n",
    "    optimizer.step()\n",
    "    \n",
    "    # free mem\n",
    "    del true_coords, angles, pre_target_x, edge_index, edge_attrs\n",
    "    del scores, pred_dec, target_dec, target_coords, pred_coords\n",
    "    del encoded, pre_target\n",
    "    gc.collect()\n",
    "    \n",
    "    # records / prints\n",
    "    iteration += 1\n",
    "    epoch_losses.append( loss.item() )\n",
    "    baseline_losses.append( loss_base.item() )\n",
    "    if iteration % 50 == 1:\n",
    "        tic = time.time()\n",
    "        print(\"BATCH: {0} / {1}, loss: {2}, baseline_loss: {3}, time: {4}\".format(iteration, n_per_iter,\n",
    "                                                                                  epoch_losses[-1],\n",
    "                                                                                  baseline_losses[-1],\n",
    "                                                                                  tic-tac))\n",
    "        tac = time.time()\n",
    "        if iteration % n_per_iter == 1:\n",
    "            print(\"---------------------------------\")"
   ]
  },
  {
   "cell_type": "code",
   "execution_count": 16,
   "metadata": {},
   "outputs": [
    {
     "name": "stderr",
     "output_type": "stream",
     "text": [
      "100%|████████████████████████████████████████████████████████████████████████████████| 400/400 [00:18<00:00, 21.78it/s]"
     ]
    },
    {
     "name": "stdout",
     "output_type": "stream",
     "text": [
      "Expected Error without model is: 1.1718597468733787\n"
     ]
    },
    {
     "name": "stderr",
     "output_type": "stream",
     "text": [
      "\n"
     ]
    }
   ],
   "source": [
    "# expected loss without denoising - recorded inside training loop\n",
    "np.mean(baseline_losses) "
   ]
  },
  {
   "cell_type": "markdown",
   "metadata": {},
   "source": [
    "### Training Plot"
   ]
  },
  {
   "cell_type": "code",
   "execution_count": 13,
   "metadata": {},
   "outputs": [
    {
     "data": {
      "image/png": "[encoded data removed]",
      "text/plain": [
       "<Figure size 1080x432 with 1 Axes>"
      ]
     },
     "metadata": {
      "needs_background": "light"
     },
     "output_type": "display_data"
    }
   ],
   "source": [
    "plt.figure(figsize=(15,6))\n",
    "plt.title(\"Loss Evolution - Denoising of Gaussian-masked Coordinates (mu=0, sigma=1)\")\n",
    "plt.plot(epoch_losses, label=\"Reconstruction loss\")\n",
    "\n",
    "for window in [8,16,32]:\n",
    "    plt.plot([np.mean(epoch_losses[:window][0:i+1]) for i in range(window)] + \\\n",
    "             [np.mean(epoch_losses[i:i+window+1]) for i in range(len(epoch_losses)-window)], \n",
    "             label=\"Window mean n={0}\".format(window))\n",
    "\n",
    "plt.plot(np.ones(len(epoch_losses)) * np.mean(baseline_losses), \"k--\", label=\"Baseline\")\n",
    "    \n",
    "# plt.yscale(\"log\")\n",
    "plt.xlim(-0.01*len(epoch_losses),1.01*len(epoch_losses))\n",
    "plt.ylabel(\"Reconstruction RMSD\")\n",
    "plt.xlabel(\"Batch number (1 epoch=400 batches)\")\n",
    "plt.legend()\n",
    "plt.show()"
   ]
  },
  {
   "cell_type": "markdown",
   "metadata": {},
   "source": [
    "### Measure rmsd on (the last trained) reconstructed protein"
   ]
  },
  {
   "cell_type": "markdown",
   "metadata": {},
   "source": [
    "* Not passing through the model"
   ]
  },
  {
   "cell_type": "code",
   "execution_count": 14,
   "metadata": {},
   "outputs": [
    {
     "name": "stdout",
     "output_type": "stream",
     "text": [
      "MSE between norms of vecs:  tensor(3.5042, device='cuda:0')\n",
      "MSE between reconstructed coords:  tensor(1.1181, device='cuda:0')\n"
     ]
    }
   ],
   "source": [
    "unfiltered = from_encode_to_pred(x, embedd_info, needed_info=NEEDED_INFO)\n",
    "# smaple decoded distance test\n",
    "unfiltered_dec = decode_dist(unfiltered[:, 3:], scales=NEEDED_INFO[\"atom_pos_scales\"]).mean(dim=-1)\n",
    "target_dec     = decode_dist(target[:, 3:], scales=NEEDED_INFO[\"atom_pos_scales\"]).mean(dim=-1)\n",
    "# mean of diffs is same as diff of means\n",
    "print(\"MSE between norms of vecs: \", ((unfiltered_dec - target_dec)**2).mean() ) \n",
    "# reconstruct coordinates\n",
    "target_coords = target[:, :3] * target_dec.unsqueeze(-1)\n",
    "unfiltered_coords = unfiltered[:, :3] * unfiltered_dec.unsqueeze(-1)\n",
    "print(\"MSE between reconstructed coords: \", ((unfiltered_coords - target_coords)**2).mean()**0.5 ) "
   ]
  },
  {
   "cell_type": "markdown",
   "metadata": {},
   "source": [
    "* passing through the model"
   ]
  },
  {
   "cell_type": "code",
   "execution_count": 15,
   "metadata": {},
   "outputs": [
    {
     "name": "stdout",
     "output_type": "stream",
     "text": [
      "MSE between norms of vecs:  tensor(3.7326, device='cuda:0', grad_fn=<MeanBackward0>)\n",
      "RMSD between reconstructed coords:  tensor(0.9709, device='cuda:0', grad_fn=<PowBackward0>)\n"
     ]
    }
   ],
   "source": [
    "# smaple decoded distance test\n",
    "sample_pred_dec = decode_dist(pred[:, 3:], scales=NEEDED_INFO[\"atom_pos_scales\"]).mean(dim=-1)\n",
    "target_dec      = decode_dist(target[:, 3:], scales=NEEDED_INFO[\"atom_pos_scales\"]).mean(dim=-1)\n",
    "# mean of diffs is same as diff of means\n",
    "print(\"MSE between norms of vecs: \", ((sample_pred_dec - target_dec)**2).mean() ) \n",
    "# reconstruct coordinates\n",
    "target_coords = target[:, :3] * target_dec.unsqueeze(-1)\n",
    "sample_pred_coords = pred[:, :3] * sample_pred_dec.unsqueeze(-1)\n",
    "print(\"RMSD between reconstructed coords: \", ((sample_pred_coords - target_coords)**2).mean()**0.5 )"
   ]
  },
  {
   "cell_type": "code",
   "execution_count": null,
   "metadata": {},
   "outputs": [],
   "source": []
  },
  {
   "cell_type": "code",
   "execution_count": null,
   "metadata": {},
   "outputs": [],
   "source": []
  },
  {
   "cell_type": "code",
   "execution_count": null,
   "metadata": {},
   "outputs": [],
   "source": []
  },
  {
   "cell_type": "code",
   "execution_count": null,
   "metadata": {},
   "outputs": [],
   "source": []
  }
 ],
 "metadata": {
  "kernelspec": {
   "display_name": "assistant",
   "language": "python",
   "name": "assistant"
  },
  "language_info": {
   "codemirror_mode": {
    "name": "ipython",
    "version": 3
   },
   "file_extension": ".py",
   "mimetype": "text/x-python",
   "name": "python",
   "nbconvert_exporter": "python",
   "pygments_lexer": "ipython3",
   "version": "3.7.9"
  }
 },
 "nbformat": 4,
 "nbformat_minor": 4
}
